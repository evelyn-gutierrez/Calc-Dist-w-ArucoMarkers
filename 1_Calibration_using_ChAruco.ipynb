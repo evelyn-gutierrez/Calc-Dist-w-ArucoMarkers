{
 "cells": [
  {
   "cell_type": "markdown",
   "metadata": {},
   "source": [
    "# 1. Print Charuco (Chessboard + Aruco images)"
   ]
  },
  {
   "cell_type": "code",
   "execution_count": 2,
   "metadata": {},
   "outputs": [],
   "source": [
    "#https://mecaruco2.readthedocs.io/en/latest/notebooks_rst/Aruco/sandbox/ludovic/aruco_calibration_rotation.html\n",
    "import numpy as np\n",
    "import cv2, PIL, os\n",
    "from cv2 import aruco\n",
    "from mpl_toolkits.mplot3d import Axes3D\n",
    "import matplotlib.pyplot as plt\n",
    "import matplotlib as mpl\n",
    "import pandas as pd\n",
    "%matplotlib nbagg"
   ]
  },
  {
   "cell_type": "code",
   "execution_count": 11,
   "metadata": {},
   "outputs": [
    {
     "data": {
      "image/png": "[encoded data removed]",
      "text/plain": [
       "<Figure size 432x288 with 1 Axes>"
      ]
     },
     "metadata": {
      "needs_background": "light"
     },
     "output_type": "display_data"
    }
   ],
   "source": [
    "workdir = \"C:/Users/u_imagenes/Dropbox/Python/FlirOne_Charuco/Calibration\"\n",
    "aruco_dict = aruco.Dictionary_get(aruco.DICT_6X6_250)\n",
    "board = aruco.CharucoBoard_create(7, 5, 1, .8, aruco_dict)\n",
    "imboard = board.draw((2000, 2000))\n",
    "cv2.imwrite(workdir + \"chessboard.tiff\", imboard)\n",
    "fig = plt.figure()\n",
    "ax = fig.add_subplot(1,1,1)\n",
    "plt.imshow(imboard, cmap = mpl.cm.gray, interpolation = \"nearest\")\n",
    "ax.axis(\"off\")\n",
    "plt.show()"
   ]
  },
  {
   "cell_type": "markdown",
   "metadata": {},
   "source": [
    "# 2. Calibrate using multiple photos from camera. "
   ]
  },
  {
   "cell_type": "code",
   "execution_count": 12,
   "metadata": {},
   "outputs": [
    {
     "data": {
      "text/plain": [
       "array(['C:/Users/EvelynG/Dropbox/Python/2. DistanceEstimator/1. Inputs/Calibration/BPLI3377- full photo.JPG',\n",
       "       'C:/Users/EvelynG/Dropbox/Python/2. DistanceEstimator/1. Inputs/Calibration/CEZU4055- full photo.JPG',\n",
       "       'C:/Users/EvelynG/Dropbox/Python/2. DistanceEstimator/1. Inputs/Calibration/DMEX6272- full photo.JPG',\n",
       "       'C:/Users/EvelynG/Dropbox/Python/2. DistanceEstimator/1. Inputs/Calibration/DSOF4497- full photo.JPG',\n",
       "       'C:/Users/EvelynG/Dropbox/Python/2. DistanceEstimator/1. Inputs/Calibration/EHKS2407- full photo.JPG',\n",
       "       'C:/Users/EvelynG/Dropbox/Python/2. DistanceEstimator/1. Inputs/Calibration/EKSW7145- full photo.JPG',\n",
       "       'C:/Users/EvelynG/Dropbox/Python/2. DistanceEstimator/1. Inputs/Calibration/FCUT7451- full photo.JPG',\n",
       "       'C:/Users/EvelynG/Dropbox/Python/2. DistanceEstimator/1. Inputs/Calibration/GTHH3149- full photo.JPG',\n",
       "       'C:/Users/EvelynG/Dropbox/Python/2. DistanceEstimator/1. Inputs/Calibration/JXHE9625- full photo.JPG',\n",
       "       'C:/Users/EvelynG/Dropbox/Python/2. DistanceEstimator/1. Inputs/Calibration/KLHR9846- full photo.JPG',\n",
       "       'C:/Users/EvelynG/Dropbox/Python/2. DistanceEstimator/1. Inputs/Calibration/LXXX6908- full photo.JPG',\n",
       "       'C:/Users/EvelynG/Dropbox/Python/2. DistanceEstimator/1. Inputs/Calibration/MHWM4427- full photo.JPG',\n",
       "       'C:/Users/EvelynG/Dropbox/Python/2. DistanceEstimator/1. Inputs/Calibration/OEZG8225- full photo.JPG',\n",
       "       'C:/Users/EvelynG/Dropbox/Python/2. DistanceEstimator/1. Inputs/Calibration/PCLB4022- full photo.JPG',\n",
       "       'C:/Users/EvelynG/Dropbox/Python/2. DistanceEstimator/1. Inputs/Calibration/TALN1817- full photo.JPG'],\n",
       "      dtype='<U99')"
      ]
     },
     "execution_count": 12,
     "metadata": {},
     "output_type": "execute_result"
    }
   ],
   "source": [
    "datadir =  \"C:/Users/EvelynG/Dropbox/Python/2. DistanceEstimator/1. Inputs/Calibration/\"\n",
    "images = np.array([datadir + f for f in os.listdir(datadir) if f.endswith(\"full photo.JPG\") ])\n",
    "#order = np.argsort([int(p.split(\"-\")[-2].split(\"_\")[-1]) for p in images])\n",
    "#images = images[order]\n",
    "images"
   ]
  },
  {
   "cell_type": "code",
   "execution_count": 14,
   "metadata": {
    "scrolled": true
   },
   "outputs": [
    {
     "name": "stdout",
     "output_type": "stream",
     "text": [
      "POSE ESTIMATION STARTS:\n",
      "=> Processing image C:/Users/EvelynG/Dropbox/Python/2. DistanceEstimator/1. Inputs/Calibration/BPLI3377- full photo.JPG\n",
      "=> Processing image C:/Users/EvelynG/Dropbox/Python/2. DistanceEstimator/1. Inputs/Calibration/CEZU4055- full photo.JPG\n",
      "=> Processing image C:/Users/EvelynG/Dropbox/Python/2. DistanceEstimator/1. Inputs/Calibration/DMEX6272- full photo.JPG\n",
      "=> Processing image C:/Users/EvelynG/Dropbox/Python/2. DistanceEstimator/1. Inputs/Calibration/DSOF4497- full photo.JPG\n",
      "=> Processing image C:/Users/EvelynG/Dropbox/Python/2. DistanceEstimator/1. Inputs/Calibration/EHKS2407- full photo.JPG\n",
      "=> Processing image C:/Users/EvelynG/Dropbox/Python/2. DistanceEstimator/1. Inputs/Calibration/EKSW7145- full photo.JPG\n",
      "=> Processing image C:/Users/EvelynG/Dropbox/Python/2. DistanceEstimator/1. Inputs/Calibration/FCUT7451- full photo.JPG\n",
      "=> Processing image C:/Users/EvelynG/Dropbox/Python/2. DistanceEstimator/1. Inputs/Calibration/GTHH3149- full photo.JPG\n",
      "=> Processing image C:/Users/EvelynG/Dropbox/Python/2. DistanceEstimator/1. Inputs/Calibration/JXHE9625- full photo.JPG\n",
      "=> Processing image C:/Users/EvelynG/Dropbox/Python/2. DistanceEstimator/1. Inputs/Calibration/KLHR9846- full photo.JPG\n",
      "=> Processing image C:/Users/EvelynG/Dropbox/Python/2. DistanceEstimator/1. Inputs/Calibration/LXXX6908- full photo.JPG\n",
      "=> Processing image C:/Users/EvelynG/Dropbox/Python/2. DistanceEstimator/1. Inputs/Calibration/MHWM4427- full photo.JPG\n",
      "=> Processing image C:/Users/EvelynG/Dropbox/Python/2. DistanceEstimator/1. Inputs/Calibration/OEZG8225- full photo.JPG\n",
      "=> Processing image C:/Users/EvelynG/Dropbox/Python/2. DistanceEstimator/1. Inputs/Calibration/PCLB4022- full photo.JPG\n",
      "=> Processing image C:/Users/EvelynG/Dropbox/Python/2. DistanceEstimator/1. Inputs/Calibration/TALN1817- full photo.JPG\n",
      "CAMERA CALIBRATION\n",
      "Wall time: 477 ms\n"
     ]
    },
    {
     "data": {
      "text/plain": [
       "array([[1.21727701e+03, 0.00000000e+00, 7.40279763e+02],\n",
       "       [0.00000000e+00, 1.21727701e+03, 5.35277223e+02],\n",
       "       [0.00000000e+00, 0.00000000e+00, 1.00000000e+00]])"
      ]
     },
     "execution_count": 14,
     "metadata": {},
     "output_type": "execute_result"
    }
   ],
   "source": [
    "def calibrate_camera(allCorners,allIds,imsize):\n",
    "    \"\"\"\n",
    "    Calibrates the camera using the dected corners.\n",
    "    \"\"\"\n",
    "    print(\"CAMERA CALIBRATION\")\n",
    "\n",
    "    cameraMatrixInit = np.array([[ 1000.,    0., imsize[0]/2.],\n",
    "                                 [    0., 1000., imsize[1]/2.],\n",
    "                                 [    0.,    0.,           1.]])\n",
    "\n",
    "    distCoeffsInit = np.zeros((5,1))\n",
    "    flags = (cv2.CALIB_USE_INTRINSIC_GUESS + cv2.CALIB_RATIONAL_MODEL + cv2.CALIB_FIX_ASPECT_RATIO)\n",
    "    #flags = (cv2.CALIB_RATIONAL_MODEL)\n",
    "    (ret, camera_matrix, distortion_coefficients0,\n",
    "     rotation_vectors, translation_vectors,\n",
    "     stdDeviationsIntrinsics, stdDeviationsExtrinsics,\n",
    "     perViewErrors) = cv2.aruco.calibrateCameraCharucoExtended(\n",
    "                      charucoCorners=allCorners,\n",
    "                      charucoIds=allIds,\n",
    "                      board=board,\n",
    "                      imageSize=imsize,\n",
    "                      cameraMatrix=cameraMatrixInit,\n",
    "                      distCoeffs=distCoeffsInit,\n",
    "                      flags=flags,\n",
    "                      criteria=(cv2.TERM_CRITERIA_EPS & cv2.TERM_CRITERIA_COUNT, 10000, 1e-9))\n",
    "\n",
    "    return ret, camera_matrix, distortion_coefficients0, rotation_vectors, translation_vectors\n",
    "\n",
    "def read_chessboards(images):\n",
    "    \"\"\"\n",
    "    Charuco base pose estimation.\n",
    "    \"\"\"\n",
    "    print(\"POSE ESTIMATION STARTS:\")\n",
    "    allCorners = []\n",
    "    allIds = []\n",
    "    decimator = 0\n",
    "    # SUB PIXEL CORNER DETECTION CRITERION\n",
    "    criteria = (cv2.TERM_CRITERIA_EPS + cv2.TERM_CRITERIA_MAX_ITER, 100, 0.00001)\n",
    "\n",
    "    for im in images:\n",
    "        print(\"=> Processing image {0}\".format(im))\n",
    "        frame = cv2.imread(im)\n",
    "        gray = cv2.cvtColor(frame, cv2.COLOR_BGR2GRAY)\n",
    "        corners, ids, rejectedImgPoints = cv2.aruco.detectMarkers(gray, aruco_dict)\n",
    "\n",
    "        if len(corners)>0:\n",
    "            # SUB PIXEL DETECTION\n",
    "            for corner in corners:\n",
    "                cv2.cornerSubPix(gray, corner,\n",
    "                                 winSize = (3,3),\n",
    "                                 zeroZone = (-1,-1),\n",
    "                                 criteria = criteria)\n",
    "            res2 = cv2.aruco.interpolateCornersCharuco(corners,ids,gray,board)\n",
    "            if res2[1] is not None and res2[2] is not None and len(res2[1])>3 and decimator%1==0:\n",
    "                allCorners.append(res2[1])\n",
    "                allIds.append(res2[2])\n",
    "\n",
    "        decimator+=1\n",
    "\n",
    "    imsize = gray.shape\n",
    "    return allCorners,allIds,imsize\n",
    "\n",
    "# Camera calibration\n",
    "allCorners,allIds,imsize=read_chessboards(images)\n",
    "%time ret, mtx, dist, rvecs, tvecs = calibrate_camera(allCorners,allIds,imsize)\n",
    "mtx"
   ]
  }
 ],
 "metadata": {
  "kernelspec": {
   "display_name": "Python 3",
   "language": "python",
   "name": "python3"
  },
  "language_info": {
   "codemirror_mode": {
    "name": "ipython",
    "version": 3
   },
   "file_extension": ".py",
   "mimetype": "text/x-python",
   "name": "python",
   "nbconvert_exporter": "python",
   "pygments_lexer": "ipython3",
   "version": "3.7.3"
  }
 },
 "nbformat": 4,
 "nbformat_minor": 2
}
